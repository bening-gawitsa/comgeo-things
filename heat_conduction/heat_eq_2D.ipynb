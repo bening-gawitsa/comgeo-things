{
 "cells": [
  {
   "cell_type": "markdown",
   "id": "b2e3b600",
   "metadata": {},
   "source": [
    "# Numerical Method"
   ]
  },
  {
   "cell_type": "markdown",
   "id": "bbcca274",
   "metadata": {},
   "source": [
    "### 2-D Heat Conduction\n",
    "\n",
    "The 2D heat conduction algorithm helps us understand how heat diffuses through a two-dimensional medium over time. The governing equation is an extension of the 1D heat conduction equation and is expressed as:\n",
    "\n",
    "\\begin{align*}\n",
    "\\frac{\\partial T}{\\partial t} = \\alpha (\\frac{\\partial^2 T}{\\partial x^2} + \\frac{\\partial^2 T}{\\partial z^2})\n",
    "\\end{align*}\n",
    "\n",
    "where $\\alpha$ is the thermal diffusivity, defined as:\n",
    "\\begin{align*}\n",
    "\\alpha = \\frac{\\kappa}{\\rho c_p}\n",
    "\\end{align*}\n",
    "\n",
    "Here $\\kappa$ is the thermal conductivity, $\\rho$ is the mass density, and $c_p$ is the specific heat at constant pressure.\n",
    "\n",
    "In terms of heat capacity, the equation can also be written as:\n",
    "\\begin{align*}\n",
    "\\rho c_p \\frac{\\partial T}{\\partial t} = \\kappa \\frac{\\partial^2 T}{\\partial x^2} + \\kappa \\frac{\\partial^2 T}{\\partial z^2}\n",
    "\\end{align*}\n",
    "\n",
    "This equation describes heat diffusion in the absence of any internal heat generation. If internal heating is present, a source term $H(x, z)$ is added to the right hand side of the equation:\n",
    "\n",
    "\\begin{align*}\n",
    "\\rho c_p \\frac{\\partial T}{\\partial t} = \\kappa \\frac{\\partial^2 T}{\\partial x^2} + \\kappa \\frac{\\partial^2 T}{\\partial z^2} + H(x, z)\n",
    "\\end{align*}\n",
    "\n",
    "Variables:\n",
    "\n",
    "- $T (x, z, t)$ : temperature field \n",
    "- $k$ : thermal conductivity $(W/m.K)$\n",
    "- $\\\\rho$ : mass density $(kg/m^3)$\n",
    "- $c_p$ : specific heat at constant pressure $(J/kg K)$\n",
    "- $H$ : heat source term $(W/m^3)$\n",
    "\n"
   ]
  },
  {
   "cell_type": "markdown",
   "id": "92048eaf",
   "metadata": {},
   "source": [
    "Similar to the 1D heat equation, solving the 2D heat equation numerically requires discretizing both space and time. For the time-dependent term on the left-hand side, we can use the forward Euler method, just as in the 1D case. For the spatial derivatives on the right-hand side, we apply the central difference method to approximate the second-order partial derivatives in both the $x$ and $z$ directions.\n",
    "\n",
    "To complete the model, we also need to define certain assumptions, including appropriate initial conditions and boundary conditions (e.g., Dirichlet or Neumann), which are essential for a well-posed simulation."
   ]
  },
  {
   "cell_type": "code",
   "execution_count": 1,
   "id": "2a720c36",
   "metadata": {},
   "outputs": [],
   "source": [
    "import numpy as np \n",
    "import matplotlib.pyplot as plt\n",
    "import matplotlib.animation as animation"
   ]
  },
  {
   "cell_type": "markdown",
   "id": "37c4a45e",
   "metadata": {},
   "source": [
    "### Defining the 2D Model\n",
    "Before solving the 2D heat conduction equation, we first need to define the physical scenario to simulate. This includes specifying the domain size, grid resolution (spacing in the $x$ and $z$ directions), the initial temperature distribution, and the internal heat source term, if present.\n",
    "\n",
    "In addition to the spatial setup, it's crucial to define the time step size carefully to ensure numerical stability. For explicit methods like the Forward Euler scheme, the Courant–Friedrichs–Lewy (CFL) condition provides a guideline for selecting a stable time step. Given spatial step sizes $dx$\n",
    "and $dz$, and thermal diffusivity $\\alpha$, the CFL condition is given by:\n",
    "\n",
    "\\begin{align*}\n",
    "dt \\leq \\frac{1}{2 \\alpha} (\\frac{1}{dx^2} + \\frac{1}{dz^2})^{-1}\n",
    "\\end{align*}\n",
    "\n",
    "This condition ensures that the time step $dt$ is sufficiently small to prevent the numerical solution from becoming unstable. If $dt$ is too large, the simulation may produce unphysical result such as oscillations of diverging (infinite) temperatures.\n"
   ]
  },
  {
   "cell_type": "code",
   "execution_count": 2,
   "id": "f865f36d",
   "metadata": {},
   "outputs": [],
   "source": [
    "# Let's start by creating a basic 2D heat conduction simulation setup using finite difference.\n",
    "# This script will initialize a temperature grid, apply Dirichlet boundary conditions, internal heat generation,\n",
    "# and perform time-stepping to simulate heat diffusion.\n",
    "\n",
    "# --- Parameters ---\n",
    "Lx, Lz = 10.0, 10.0              # domain size in x and z (meters)\n",
    "Nx, Nz = 50, 50                # number of grid points\n",
    "dx, dz = Lx / (Nx - 1), Lz / (Nz - 1)  # grid spacing\n",
    "\n",
    "rho = 850                    # density (kg/m^3)\n",
    "cp = 850                     # specific heat capacity (J/kg·K)\n",
    "k = 700.0                    # thermal conductivity (W/m·K)\n",
    "alpha = k / (rho*cp)         # thermal diffusivity (mm^2/s)\n",
    "H = 1e-6                      # internal heat generation rate (W/m^3)\n",
    "\n",
    "# --- Time settings ---\n",
    "# dt less than (1/(2 alpha)) / (dx**2 + dz**2)  # time step (s)\n",
    "# dt less than 10.747\n",
    "cfl = (0.5*(dx**2 * dz**2)) / (alpha*(dx**2 + dz**2))\n",
    "dt = 0.8 * cfl\n",
    "Tmax = 10000.0                # total simulation time (s)\n",
    "Nt = int(Tmax / dt)          # number of time steps\n"
   ]
  },
  {
   "cell_type": "code",
   "execution_count": 3,
   "id": "f4de5184",
   "metadata": {},
   "outputs": [],
   "source": [
    "def apply_boundary_conditions(T):\n",
    "    T[0, :] = 100.0             # top boundary\n",
    "    T[-1, :] = 0.0            # bottom boundary\n",
    "    T[:, 0] = 100.0             # left boundary\n",
    "    T[:, -1] = 0.0            # right boundary\n",
    "    return T\n",
    "\n",
    "def solver_2d(T_init, Nx, Nz, rho, cp, H, dt, Nt):\n",
    "    \"\"\"\n",
    "    This function solves the 2D heat conduction equation using finite difference method.\n",
    "\n",
    "    Args:\n",
    "     - T_init: Initial temperature distribution\n",
    "     - Nx, Nz: Number of grid points in x and z directions\n",
    "     - rho, cp: Density and specific heat capacity of the material\n",
    "     - H: Heat generation rate\n",
    "     - dt: Time step\n",
    "     - Nt: Number of time steps\n",
    "    \n",
    "    Returns:\n",
    "     - T_all: List of temperature snapshots\n",
    "    \"\"\"\n",
    "    dx, dz = Lx / (Nx - 1), Lz / (Nz - 1)\n",
    "    alpha = k / (rho*cp) \n",
    "    T = T_init.copy()\n",
    "    T_all = []  # list to store temperature snapshots\n",
    "\n",
    "    for t in range(Nt):\n",
    "        T = apply_boundary_conditions(T)\n",
    "        T_new = T.copy()\n",
    "\n",
    "        for i in range(1, Nz-1):\n",
    "            for j in range(1, Nx-1):\n",
    "                d2Tdx2 = (T[i, j+1] - 2*T[i, j] + T[i, j-1]) / dx**2\n",
    "                d2Tdz2 = (T[i+1, j] - 2*T[i, j] + T[i-1, j]) / dz**2\n",
    "                T_new[i, j] = T[i, j] + dt * (alpha * (d2Tdx2 + d2Tdz2) + H / (rho * cp))\n",
    "\n",
    "        T_all.append(T_new.copy())\n",
    "        T = T_new\n",
    "\n",
    "    print(f\"Total snapshots:\", len(T_all))\n",
    "    return T_all"
   ]
  },
  {
   "cell_type": "code",
   "execution_count": 4,
   "id": "479bf346",
   "metadata": {},
   "outputs": [
    {
     "name": "stdout",
     "output_type": "stream",
     "text": [
      "Total snapshots: 1163\n"
     ]
    }
   ],
   "source": [
    "init_T = np.zeros((Nz, Nx))\n",
    "temp_new = solver_2d(init_T, Nx, Nz, rho, cp, H, dt, Nt)"
   ]
  },
  {
   "cell_type": "code",
   "execution_count": 5,
   "id": "d1f76e1e",
   "metadata": {},
   "outputs": [
    {
     "data": {
      "image/png": "[encoded data removed]",
      "text/plain": [
       "<Figure size 640x480 with 2 Axes>"
      ]
     },
     "metadata": {},
     "output_type": "display_data"
    }
   ],
   "source": [
    "snapshot_id = 110\n",
    "fig, ax = plt.subplots()\n",
    "cax = ax.imshow(temp_new[snapshot_id], origin='lower', cmap='jet', extent=[0, Lx, 0, Lz])\n",
    "fig.colorbar(cax, label=\"Temperature (°C)\")\n",
    "plt.xlabel(xlabel=\"x length (m)\")\n",
    "plt.ylabel(ylabel=\"y length (m)\")\n",
    "\n",
    "def update(frame):\n",
    "    cax.set_array(temp_new[frame])\n",
    "    ax.set_title(f\"Time step {frame}\")\n",
    "    return [cax]\n",
    "\n",
    "ani = animation.FuncAnimation(fig, update, frames=len(temp_new), interval=50, blit=False)\n",
    "plt.show()\n"
   ]
  },
  {
   "cell_type": "code",
   "execution_count": null,
   "id": "4b1c8c73",
   "metadata": {},
   "outputs": [],
   "source": [
    "# # Save the animation\n",
    "# ani.save(r\"comgeo-things\\figures\\heat_conduction.gif\", writer=\"pillow\", fps=10)"
   ]
  }
 ],
 "metadata": {
  "kernelspec": {
   "display_name": "invert",
   "language": "python",
   "name": "python3"
  },
  "language_info": {
   "codemirror_mode": {
    "name": "ipython",
    "version": 3
   },
   "file_extension": ".py",
   "mimetype": "text/x-python",
   "name": "python",
   "nbconvert_exporter": "python",
   "pygments_lexer": "ipython3",
   "version": "3.9.18"
  }
 },
 "nbformat": 4,
 "nbformat_minor": 5
}
